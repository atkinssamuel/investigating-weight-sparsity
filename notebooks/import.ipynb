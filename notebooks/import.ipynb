{
 "cells": [
  {
   "cell_type": "code",
   "execution_count": 1,
   "id": "insured-messaging",
   "metadata": {},
   "outputs": [],
   "source": [
    "import urllib\n",
    "\n",
    "download_path = \"https://storage.googleapis.com/download.tensorflow.org/data/shakespeare.txt\"\n",
    "data = urllib.request.urlopen(download_path)\n",
    "\n",
    "text_chars = \"\"\n",
    "\n",
    "whitespace_replace_chars = [\"\\\\n\"]\n",
    "remove_chars = [\"'\", '\"', \"-\", \",\", \":\", \"?\", \"!\", \";\"]\n",
    "\n",
    "for line in data:\n",
    "    line = str(line).lower()[2:]\n",
    "    for replace_char in whitespace_replace_chars:\n",
    "        line = line.replace(replace_char, \" \")\n",
    "    for remove_char in remove_chars:\n",
    "        line = line.replace(remove_char, \"\")\n",
    "    text_chars += line\n",
    "text_chars = ' '.join(text_chars.split())"
   ]
  },
  {
   "cell_type": "code",
   "execution_count": 2,
   "id": "centered-berry",
   "metadata": {},
   "outputs": [
    {
     "name": "stdout",
     "output_type": "stream",
     "text": [
      "first citizen before we proceed any further hear me speak. all speak speak. first citizen you are all resolved rather to die than to famish all resolved. resolved. first citizen first you know caius marcius is chief enemy to the people. all we knowt we knowt. first citizen let us kill him and well have corn at our own price. ist a verdict all no more talking ont let it be done away away second citizen one word good citizens. first citizen we are accounted poor citizens the patricians good. what authority surfeits on would relieve us if they would yield us but the superfluity while it were wholesome we might guess they relieved us humanely but they think we are too dear the leanness that afflicts us the object of our misery is as an inventory to particularise their abundance our sufferance is a gain to them let us revenge this with our pikes ere we become rakes for the gods know i speak this in hunger for bread not in thirst for revenge. second citizen would you proceed especially against caius marcius all against him first hes a very dog to the commonalty. second citizen consider you what services he has done for his country first citizen very well and could be content to give him good report fort but that he pays himself with being proud. second citizen nay but speak not maliciously. first citizen i say unto you what he hath done famously he did it to that end though softconscienced men can be content to say it was for his country he did it to please his mother and to be partly proud which he is even till the altitude of his virtue. second citizen what he cannot help in his nature you account a vice in him. you must in no way say he is covetous. first citizen if i must not i need not be barren of accusations he hath faults with surplus to tire in repetition. what shouts are these the other side o the city is risen why stay we prating here to the capitol all come come. first citizen soft who comes here second citizen worthy menenius agrippa one that hath always love\n"
     ]
    }
   ],
   "source": [
    "print(text_chars[:2000])"
   ]
  },
  {
   "cell_type": "code",
   "execution_count": 3,
   "id": "armed-gross",
   "metadata": {},
   "outputs": [
    {
     "name": "stdout",
     "output_type": "stream",
     "text": [
      "1061639\n"
     ]
    }
   ],
   "source": [
    "print(len(text_chars))"
   ]
  },
  {
   "cell_type": "code",
   "execution_count": 4,
   "id": "hearing-ivory",
   "metadata": {},
   "outputs": [],
   "source": [
    "import torch\n",
    "\n",
    "def batches(data, batch_size=32):\n",
    "    l = len(data)\n",
    "    for i in range(0, l, batch_size):\n",
    "        yield data[i:min(i + batch_size, l)]\n",
    "\n",
    "def letter_to_index(letter):\n",
    "    return ALL_LETTERS.find(letter)\n",
    "\n",
    "def letter_to_tensor(letter):\n",
    "    letter_tensor = torch.zeros(1, N_LETTERS)\n",
    "    letter_tensor[0][letter_to_index(letter)] = 1\n",
    "    return letter_tensor\n",
    "\n",
    "def line_to_tensor(line):\n",
    "    line_tensor = torch.zeros(len(line), 1, N_LETTERS)\n",
    "    for i, letter in enumerate(line):\n",
    "        line_tensor[i][0][letter_to_index(letter)] = 1\n",
    "    return line_tensor"
   ]
  },
  {
   "cell_type": "code",
   "execution_count": 5,
   "id": "prescribed-syntax",
   "metadata": {},
   "outputs": [
    {
     "name": "stdout",
     "output_type": "stream",
     "text": [
      "torch.Size([10, 1, 57])\n"
     ]
    }
   ],
   "source": [
    "import string\n",
    "\n",
    "ALL_LETTERS = string.ascii_letters + \" .,;'\"\n",
    "N_LETTERS = len(ALL_LETTERS)\n",
    "\n",
    "print(line_to_tensor(text_chars[:10]).shape) # torch.Size([10, 1, 57]) = BATCH_SIZE x 1 x N_LETTERS\n",
    "\n",
    "data_lines = []\n",
    "for batch in batches(text_chars, batch_size=16):\n",
    "    data_lines.append(batch)"
   ]
  },
  {
   "cell_type": "code",
   "execution_count": 6,
   "id": "unexpected-indian",
   "metadata": {},
   "outputs": [
    {
     "name": "stdout",
     "output_type": "stream",
     "text": [
      "torch.Size([16, 1, 57])\n"
     ]
    }
   ],
   "source": [
    "print(line_to_tensor(data_lines[54]).shape)"
   ]
  },
  {
   "cell_type": "code",
   "execution_count": 7,
   "id": "premium-composition",
   "metadata": {},
   "outputs": [],
   "source": [
    "import glob\n",
    "import unicodedata\n",
    "\n",
    "def find_file_names(file_path_string):\n",
    "    return glob.glob(file_path_string)\n",
    "\n",
    "def to_ascii(string):\n",
    "    return \"\".join(char for char in unicodedata.normalize(\"NFD\", string)\n",
    "                  if unicodedata.category(char) != \"Mn\"\n",
    "                  and char in ALL_LETTERS)\n",
    "\n",
    "def read_lines(file):\n",
    "    data = open(file, encoding='utf-8').read().strip().split('\\n')\n",
    "    return [to_ascii(line) for line in data]"
   ]
  },
  {
   "cell_type": "code",
   "execution_count": 8,
   "id": "dominant-yemen",
   "metadata": {},
   "outputs": [
    {
     "name": "stdout",
     "output_type": "stream",
     "text": [
      "['../data/names_data/names/Scottish.txt', '../data/names_data/names/French.txt', '../data/names_data/names/Dutch.txt', '../data/names_data/names/Czech.txt', '../data/names_data/names/Irish.txt', '../data/names_data/names/Greek.txt', '../data/names_data/names/Italian.txt', '../data/names_data/names/Russian.txt', '../data/names_data/names/Japanese.txt', '../data/names_data/names/Arabic.txt', '../data/names_data/names/German.txt', '../data/names_data/names/Korean.txt', '../data/names_data/names/Polish.txt', '../data/names_data/names/Spanish.txt', '../data/names_data/names/Vietnamese.txt', '../data/names_data/names/Chinese.txt', '../data/names_data/names/Portuguese.txt', '../data/names_data/names/English.txt']\n"
     ]
    }
   ],
   "source": [
    "names_data_files = \"../data/names_data/names/*.txt\"\n",
    "\n",
    "print(find_file_names(names_data_files))"
   ]
  },
  {
   "cell_type": "code",
   "execution_count": 9,
   "id": "western-apartment",
   "metadata": {},
   "outputs": [],
   "source": [
    "import os \n",
    "\n",
    "data_dict = {}\n",
    "categories_list = []\n",
    "\n",
    "for file in find_file_names(names_data_files):\n",
    "    name_category = os.path.splitext(os.path.basename(file))[0]\n",
    "    categories_list.append(name_category)\n",
    "    lines = read_lines(file)\n",
    "    data_dict[name_category] = lines\n",
    "    \n",
    "N_CATEGORIES = len(data_dict)"
   ]
  },
  {
   "cell_type": "code",
   "execution_count": 10,
   "id": "vital-vocabulary",
   "metadata": {},
   "outputs": [
    {
     "name": "stdout",
     "output_type": "stream",
     "text": [
      "dict_keys(['Scottish', 'French', 'Dutch', 'Czech', 'Irish', 'Greek', 'Italian', 'Russian', 'Japanese', 'Arabic', 'German', 'Korean', 'Polish', 'Spanish', 'Vietnamese', 'Chinese', 'Portuguese', 'English'])\n",
      "['Smith', 'Brown', 'Wilson', 'Campbell', 'Stewart', 'Thomson', 'Robertson', 'Anderson', 'Macdonald', 'Scott']\n"
     ]
    }
   ],
   "source": [
    "print(data_dict.keys())\n",
    "print(data_dict[\"Scottish\"][:10])"
   ]
  },
  {
   "cell_type": "code",
   "execution_count": 12,
   "id": "egyptian-madness",
   "metadata": {},
   "outputs": [],
   "source": [
    "import torch.nn as nn\n",
    "\n",
    "class RNN(nn.Module):\n",
    "    def __init__(self, input_size, hidden_size, output_size):\n",
    "        super(RNN, self).__init__()\n",
    "\n",
    "        self.hidden_size = hidden_size\n",
    "\n",
    "        self.i2h = nn.Linear(input_size + hidden_size, hidden_size)\n",
    "        self.i2o = nn.Linear(input_size + hidden_size, output_size)\n",
    "        self.softmax = nn.LogSoftmax(dim=1)\n",
    "\n",
    "    def forward(self, input, hidden):\n",
    "        combined = torch.cat((input, hidden), 1)\n",
    "        hidden = self.i2h(combined)\n",
    "        output = self.i2o(combined)\n",
    "        output = self.softmax(output)\n",
    "        return output, hidden\n",
    "\n",
    "    def initHidden(self):\n",
    "        return torch.zeros(1, self.hidden_size)"
   ]
  },
  {
   "cell_type": "code",
   "execution_count": 14,
   "id": "continent-category",
   "metadata": {},
   "outputs": [],
   "source": [
    "N_HIDDEN = 128\n",
    "rnn = RNN(N_LETTERS, N_HIDDEN, N_CATEGORIES)"
   ]
  },
  {
   "cell_type": "code",
   "execution_count": 20,
   "id": "adapted-handy",
   "metadata": {},
   "outputs": [
    {
     "name": "stdout",
     "output_type": "stream",
     "text": [
      "category = Scottish / line = Watson\n",
      "category = Dutch / line = Buiren\n",
      "category = Russian / line = Hamitski\n",
      "category = Czech / line = Zitka\n",
      "category = Czech / line = Sedmikova\n",
      "category = Vietnamese / line = Phi\n",
      "category = Russian / line = Jitluhin\n",
      "category = Russian / line = Velsh\n",
      "category = Japanese / line = Tsunoda\n",
      "category = Vietnamese / line = Cao\n"
     ]
    }
   ],
   "source": [
    "import random\n",
    "\n",
    "# category_lines = {} = data_dict\n",
    "# all_categories = [] = categories_list\n",
    "\n",
    "def category_from_output(output):\n",
    "    \"\"\"\n",
    "    Computes the category given an output tensor from the model\n",
    "    \"\"\"\n",
    "    top_n, top_i = output.topk(1)\n",
    "    category_i = top_i[0].item()\n",
    "    return categories_list[category_i], category_i\n",
    "\n",
    "def randomChoice(l):\n",
    "    return l[random.randint(0, len(l) - 1)]\n",
    "\n",
    "def randomTrainingExample():\n",
    "    category = randomChoice(categories_list)\n",
    "    line = randomChoice(data_dict[category])\n",
    "    category_tensor = torch.tensor([categories_list.index(category)], dtype=torch.long)\n",
    "    line_tensor = line_to_tensor(line)\n",
    "    return category, line, category_tensor, line_tensor\n",
    "\n",
    "for i in range(10):\n",
    "    category, line, category_tensor, line_tensor = randomTrainingExample()\n",
    "    print('category =', category, '/ line =', line)"
   ]
  },
  {
   "cell_type": "code",
   "execution_count": 21,
   "id": "interior-decade",
   "metadata": {},
   "outputs": [],
   "source": [
    "criterion = nn.NLLLoss()\n",
    "learning_rate = 0.005 # If you set this too high, it might explode. If too low, it might not learn\n",
    "\n",
    "def train(category_tensor, line_tensor):\n",
    "    hidden = rnn.initHidden()\n",
    "\n",
    "    rnn.zero_grad()\n",
    "\n",
    "    for i in range(line_tensor.size()[0]):\n",
    "        output, hidden = rnn(line_tensor[i], hidden)\n",
    "\n",
    "    loss = criterion(output, category_tensor)\n",
    "    loss.backward()\n",
    "\n",
    "    # Add parameters' gradients to their values, multiplied by learning rate\n",
    "    for p in rnn.parameters():\n",
    "        p.data.add_(p.grad.data, alpha=-learning_rate)\n",
    "\n",
    "    return output, loss.item()"
   ]
  },
  {
   "cell_type": "code",
   "execution_count": 22,
   "id": "statutory-overhead",
   "metadata": {},
   "outputs": [
    {
     "name": "stdout",
     "output_type": "stream",
     "text": [
      "5000 5% (0m 5s) 2.4109 Moon / Chinese ✗ (Korean)\n",
      "10000 10% (0m 11s) 3.5226 Morcos / Greek ✗ (Arabic)\n",
      "15000 15% (0m 15s) 2.5475 Von brandt / French ✗ (German)\n",
      "20000 20% (0m 20s) 1.9441 Morales / Portuguese ✗ (Spanish)\n",
      "25000 25% (0m 24s) 0.9571 Kokoris / Greek ✓\n",
      "30000 30% (0m 29s) 2.4060 Achterberg / French ✗ (German)\n",
      "35000 35% (0m 33s) 2.5013 Naoimhin / Russian ✗ (Irish)\n",
      "40000 40% (0m 37s) 0.8175 Ryoo / Korean ✓\n",
      "45000 45% (0m 42s) 1.5339 Rickett / English ✓\n",
      "50000 50% (0m 47s) 1.0458 Gomes / Portuguese ✓\n",
      "55000 55% (0m 52s) 2.1144 Sai / Chinese ✗ (Vietnamese)\n",
      "60000 60% (0m 57s) 0.8230 Gonzalez / Spanish ✓\n",
      "65000 65% (1m 2s) 0.8113 An / Vietnamese ✓\n",
      "70000 70% (1m 8s) 2.4400 Bureau / Arabic ✗ (French)\n",
      "75000 75% (1m 12s) 0.5202 Corraidhin / Irish ✓\n",
      "80000 80% (1m 17s) 0.2575 Yau / Chinese ✓\n",
      "85000 85% (1m 21s) 0.0653 Totolos / Greek ✓\n",
      "90000 90% (1m 26s) 1.2326 Flores / Portuguese ✗ (Spanish)\n",
      "95000 95% (1m 30s) 0.2290 Parri / Italian ✓\n",
      "100000 100% (1m 35s) 1.4262 Pae / Vietnamese ✗ (Korean)\n"
     ]
    }
   ],
   "source": [
    "import time\n",
    "import math\n",
    "\n",
    "n_iters = 100000\n",
    "print_every = 5000\n",
    "plot_every = 1000\n",
    "\n",
    "\n",
    "\n",
    "# Keep track of losses for plotting\n",
    "current_loss = 0\n",
    "all_losses = []\n",
    "\n",
    "def timeSince(since):\n",
    "    now = time.time()\n",
    "    s = now - since\n",
    "    m = math.floor(s / 60)\n",
    "    s -= m * 60\n",
    "    return '%dm %ds' % (m, s)\n",
    "\n",
    "start = time.time()\n",
    "\n",
    "for iter in range(1, n_iters + 1):\n",
    "    category, line, category_tensor, line_tensor = randomTrainingExample()\n",
    "    output, loss = train(category_tensor, line_tensor)\n",
    "    current_loss += loss\n",
    "\n",
    "    # Print iter number, loss, name and guess\n",
    "    if iter % print_every == 0:\n",
    "        guess, guess_i = category_from_output(output)\n",
    "        correct = '✓' if guess == category else '✗ (%s)' % category\n",
    "        print('%d %d%% (%s) %.4f %s / %s %s' % (iter, iter / n_iters * 100, timeSince(start), loss, line, guess, correct))\n",
    "\n",
    "    # Add current loss avg to list of losses\n",
    "    if iter % plot_every == 0:\n",
    "        all_losses.append(current_loss / plot_every)\n",
    "        current_loss = 0"
   ]
  },
  {
   "cell_type": "code",
   "execution_count": 23,
   "id": "statistical-sword",
   "metadata": {},
   "outputs": [
    {
     "data": {
      "text/plain": [
       "[<matplotlib.lines.Line2D at 0x7fa3b86495b0>]"
      ]
     },
     "execution_count": 23,
     "metadata": {},
     "output_type": "execute_result"
    },
    {
     "data": {
      "image/png": "[encoded data removed]",
      "text/plain": [
       "<Figure size 432x288 with 1 Axes>"
      ]
     },
     "metadata": {
      "needs_background": "light"
     },
     "output_type": "display_data"
    }
   ],
   "source": [
    "import matplotlib.pyplot as plt\n",
    "import matplotlib.ticker as ticker\n",
    "\n",
    "plt.figure()\n",
    "plt.plot(all_losses)"
   ]
  },
  {
   "cell_type": "code",
   "execution_count": 27,
   "id": "growing-absorption",
   "metadata": {},
   "outputs": [
    {
     "name": "stderr",
     "output_type": "stream",
     "text": [
      "<ipython-input-27-4b604e00780c>:33: UserWarning: FixedFormatter should only be used together with FixedLocator\n",
      "  ax.set_xticklabels([''] + categories_list, rotation=90)\n",
      "<ipython-input-27-4b604e00780c>:34: UserWarning: FixedFormatter should only be used together with FixedLocator\n",
      "  ax.set_yticklabels([''] + categories_list)\n"
     ]
    },
    {
     "data": {
      "image/png": "[encoded data removed]",
      "text/plain": [
       "<Figure size 432x288 with 2 Axes>"
      ]
     },
     "metadata": {
      "needs_background": "light"
     },
     "output_type": "display_data"
    }
   ],
   "source": [
    "# Keep track of correct guesses in a confusion matrix\n",
    "confusion = torch.zeros(N_CATEGORIES, N_CATEGORIES)\n",
    "n_confusion = 10000\n",
    "\n",
    "# Just return an output given a line\n",
    "def evaluate(line_tensor):\n",
    "    hidden = rnn.initHidden()\n",
    "\n",
    "    for i in range(line_tensor.size()[0]):\n",
    "        output, hidden = rnn(line_tensor[i], hidden)\n",
    "\n",
    "    return output\n",
    "\n",
    "# Go through a bunch of examples and record which are correctly guessed\n",
    "for i in range(n_confusion):\n",
    "    category, line, category_tensor, line_tensor = randomTrainingExample()\n",
    "    output = evaluate(line_tensor)\n",
    "    guess, guess_i = category_from_output(output)\n",
    "    category_i = categories_list.index(category)\n",
    "    confusion[category_i][guess_i] += 1\n",
    "\n",
    "# Normalize by dividing every row by its sum\n",
    "for i in range(N_CATEGORIES):\n",
    "    confusion[i] = confusion[i] / confusion[i].sum()\n",
    "\n",
    "# Set up plot\n",
    "fig = plt.figure()\n",
    "ax = fig.add_subplot(111)\n",
    "cax = ax.matshow(confusion.numpy())\n",
    "fig.colorbar(cax)\n",
    "\n",
    "# Set up axes\n",
    "ax.set_xticklabels([''] + categories_list, rotation=90)\n",
    "ax.set_yticklabels([''] + categories_list)\n",
    "\n",
    "# Force label at every tick\n",
    "ax.xaxis.set_major_locator(ticker.MultipleLocator(1))\n",
    "ax.yaxis.set_major_locator(ticker.MultipleLocator(1))\n",
    "\n",
    "# sphinx_gallery_thumbnail_number = 2\n",
    "plt.show()"
   ]
  },
  {
   "cell_type": "code",
   "execution_count": 29,
   "id": "supported-programming",
   "metadata": {},
   "outputs": [
    {
     "name": "stdout",
     "output_type": "stream",
     "text": [
      "\n",
      "> Dovesky\n",
      "(-0.56) Czech\n",
      "(-1.25) Russian\n",
      "(-2.58) English\n",
      "\n",
      "> Jackson\n",
      "(-0.27) Scottish\n",
      "(-1.87) English\n",
      "(-3.30) Russian\n",
      "\n",
      "> Satoshi\n",
      "(-1.05) Italian\n",
      "(-1.57) Polish\n",
      "(-2.44) Arabic\n"
     ]
    }
   ],
   "source": [
    "def predict(input_line, n_predictions=3):\n",
    "    print('\\n> %s' % input_line)\n",
    "    with torch.no_grad():\n",
    "        output = evaluate(line_to_tensor(input_line))\n",
    "\n",
    "        # Get top N categories\n",
    "        topv, topi = output.topk(n_predictions, 1, True)\n",
    "        predictions = []\n",
    "\n",
    "        for i in range(n_predictions):\n",
    "            value = topv[0][i].item()\n",
    "            category_index = topi[0][i].item()\n",
    "            print('(%.2f) %s' % (value, categories_list[category_index]))\n",
    "            predictions.append([value, categories_list[category_index]])\n",
    "\n",
    "predict('Dovesky')\n",
    "predict('Jackson')\n",
    "predict('Satoshi')"
   ]
  },
  {
   "cell_type": "code",
   "execution_count": null,
   "id": "level-punch",
   "metadata": {},
   "outputs": [],
   "source": []
  }
 ],
 "metadata": {
  "kernelspec": {
   "display_name": "Python 3",
   "language": "python",
   "name": "python3"
  },
  "language_info": {
   "codemirror_mode": {
    "name": "ipython",
    "version": 3
   },
   "file_extension": ".py",
   "mimetype": "text/x-python",
   "name": "python",
   "nbconvert_exporter": "python",
   "pygments_lexer": "ipython3",
   "version": "3.8.8"
  }
 },
 "nbformat": 4,
 "nbformat_minor": 5
}
